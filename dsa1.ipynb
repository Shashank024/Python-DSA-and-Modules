{
 "cells": [
  {
   "cell_type": "code",
   "execution_count": 4,
   "metadata": {},
   "outputs": [
    {
     "name": "stdout",
     "output_type": "stream",
     "text": [
      "enter a number1256\n",
      "14\n"
     ]
    }
   ],
   "source": [
    "name=input(\"enter a number\")\n",
    "total=0\n",
    "for i in name:\n",
    "    total=total+int(i)\n",
    "print(total)    "
   ]
  },
  {
   "cell_type": "code",
   "execution_count": 8,
   "metadata": {},
   "outputs": [
    {
     "name": "stdout",
     "output_type": "stream",
     "text": [
      "True\n"
     ]
    }
   ],
   "source": [
    "def is_even(num):\n",
    "    return num%2==0\n",
    "print(is_even(10))"
   ]
  },
  {
   "cell_type": "code",
   "execution_count": 11,
   "metadata": {},
   "outputs": [
    {
     "name": "stdout",
     "output_type": "stream",
     "text": [
      "enter 1 number2\n",
      "enter 2 number1\n",
      "2\n"
     ]
    }
   ],
   "source": [
    "def greater(a,b):\n",
    "    if a>b:\n",
    "        return a\n",
    "    else:\n",
    "        return b\n",
    "n1=input(\"enter 1 number\")\n",
    "n1=int(n1)\n",
    "n2=input(\"enter 2 number\")\n",
    "n2=int(n2)\n",
    "bigger=greater(n1,n2)\n",
    "print(bigger)"
   ]
  },
  {
   "cell_type": "code",
   "execution_count": 26,
   "metadata": {},
   "outputs": [
    {
     "name": "stdout",
     "output_type": "stream",
     "text": [
      "30\n"
     ]
    }
   ],
   "source": [
    "def greater(a,b):\n",
    "    if a>b:\n",
    "        return a\n",
    "    else:\n",
    "        return b\n",
    "def greatest(a,b,c):\n",
    "    if a>b and a>c:\n",
    "        return a\n",
    "    elif b>a and b>c:\n",
    "        return b\n",
    "    else:\n",
    "        return c\n",
    "def new_greatest(a,b,c):\n",
    "    bigger=greater(a,b)\n",
    "    return greater(bigger,c)\n",
    "\n",
    "print(new_greatest(10,20,30))"
   ]
  },
  {
   "cell_type": "code",
   "execution_count": 29,
   "metadata": {},
   "outputs": [
    {
     "name": "stdout",
     "output_type": "stream",
     "text": [
      "True\n",
      "False\n"
     ]
    }
   ],
   "source": [
    "def palindrome(word):\n",
    "    return word==word[::-1]\n",
    "print(palindrome(\"madam\"))    \n",
    "print(palindrome(\"horse\"))"
   ]
  },
  {
   "cell_type": "code",
   "execution_count": 31,
   "metadata": {},
   "outputs": [
    {
     "name": "stdout",
     "output_type": "stream",
     "text": [
      "0 1 1 2 3 5 8 13 21 34 "
     ]
    }
   ],
   "source": [
    "def fibonacci_seq(n):\n",
    "    a =0\n",
    "    b= 1\n",
    "    if n==1:\n",
    "        print(a)\n",
    "    elif n==2:\n",
    "        print(a,b)\n",
    "    else:\n",
    "        print(a,b,end =\" \")\n",
    "        for i in range(n-2):\n",
    "            c= a+b\n",
    "            a=b\n",
    "            b=c\n",
    "            print(b,end=\" \")\n",
    "fibonacci_seq(10)            "
   ]
  },
  {
   "cell_type": "code",
   "execution_count": 33,
   "metadata": {},
   "outputs": [
    {
     "name": "stdout",
     "output_type": "stream",
     "text": [
      "7\n",
      "7\n"
     ]
    }
   ],
   "source": [
    "#variable scope\n",
    "x=5\n",
    "def fun():\n",
    "    global x\n",
    "    x=7\n",
    "    return x\n",
    "print(fun())\n",
    "print(x)"
   ]
  },
  {
   "cell_type": "code",
   "execution_count": 36,
   "metadata": {},
   "outputs": [
    {
     "name": "stdout",
     "output_type": "stream",
     "text": [
      "5\n",
      "7\n",
      "7\n"
     ]
    }
   ],
   "source": [
    "x=5\n",
    "def fun():\n",
    "    global x\n",
    "    x=7\n",
    "    return x\n",
    "print(x)\n",
    "print(fun())\n",
    "print(x)\n"
   ]
  },
  {
   "cell_type": "code",
   "execution_count": 42,
   "metadata": {
    "scrolled": true
   },
   "outputs": [
    {
     "name": "stdout",
     "output_type": "stream",
     "text": [
      "[1, 2.3, 'five', None]\n",
      "None\n",
      "2.3\n",
      "[1, 't', 'w', 'o']\n",
      "[1, 'three', 'four']\n"
     ]
    }
   ],
   "source": [
    "#intro to list\n",
    "mixed = [1,2.3,'five',None]\n",
    "print(mixed)\n",
    "print(mixed[-1])\n",
    "print(mixed[1])\n",
    "mixed[1:]='two'\n",
    "print(mixed)\n",
    "mixed[1:]=['three','four']\n",
    "print(mixed)"
   ]
  },
  {
   "cell_type": "code",
   "execution_count": 43,
   "metadata": {},
   "outputs": [
    {
     "name": "stdout",
     "output_type": "stream",
     "text": [
      "['mango', 'apple']\n"
     ]
    }
   ],
   "source": [
    "#add data to list\n",
    "fruits=['mango']\n",
    "fruits.append(\"apple\")\n",
    "print(fruits)"
   ]
  },
  {
   "cell_type": "code",
   "execution_count": 46,
   "metadata": {},
   "outputs": [
    {
     "name": "stdout",
     "output_type": "stream",
     "text": [
      "['mango', 'apple', 'orange', 'banana']\n"
     ]
    }
   ],
   "source": [
    "#more methods to insert data\n",
    "#insert method\n",
    "fruits=['mango','orange']\n",
    "fruits.insert(1,\"apple\")\n",
    "fruits2=['banana']\n",
    "fruits3=fruits+fruits2\n",
    "print(fruits3)\n"
   ]
  },
  {
   "cell_type": "code",
   "execution_count": 56,
   "metadata": {},
   "outputs": [
    {
     "name": "stdout",
     "output_type": "stream",
     "text": [
      "['mango', 'apple', 'orange', 'banana']\n",
      "['banana']\n"
     ]
    }
   ],
   "source": [
    "#extend method\n",
    "fruits=['mango','orange']\n",
    "fruits.insert(1,\"apple\")\n",
    "fruits2=['banana']\n",
    "fruits.extend(fruits2)\n",
    "print(fruits)\n",
    "print(fruits2)\n",
    "\n",
    "#append method also include the big braces if we do appending in list 1(fruits) with list2(fruits2)\n",
    "\n"
   ]
  },
  {
   "cell_type": "code",
   "execution_count": 57,
   "metadata": {},
   "outputs": [
    {
     "name": "stdout",
     "output_type": "stream",
     "text": [
      "['mango', 'apple', 'orange', 'apple']\n",
      "['apple', 'orange', 'apple']\n",
      "['orange', 'apple']\n",
      "present\n"
     ]
    }
   ],
   "source": [
    "#delete data from list\n",
    "fruits=['mango','apple','orange','apple','papaya']\n",
    "fruits.pop()\n",
    "print(fruits)\n",
    "del fruits[0]   #del operator\n",
    "print(fruits)\n",
    "fruits.remove('apple')   #remove operator apple is present wo time it delets first apple\n",
    "print(fruits)\n",
    "if 'apple' in fruits:    #in keyword with list\n",
    "    print(\"present\")\n",
    "else:\n",
    "    print(\"not present\")\n",
    "#some common list methods sort,sorted,count,clear,copy    "
   ]
  },
  {
   "cell_type": "code",
   "execution_count": 62,
   "metadata": {},
   "outputs": [
    {
     "name": "stdout",
     "output_type": "stream",
     "text": [
      "True\n",
      "False\n"
     ]
    }
   ],
   "source": [
    "#is vs equals \n",
    "#is- kya dono list hamari memory ma ek he jagah par ha\n",
    "fruits1 = ['orange','apple']\n",
    "fruits2 = ['orange','apple']\n",
    "print(fruits1==fruits2)\n",
    "print(fruits1 is fruits2)"
   ]
  },
  {
   "cell_type": "code",
   "execution_count": 65,
   "metadata": {
    "scrolled": true
   },
   "outputs": [
    {
     "name": "stdout",
     "output_type": "stream",
     "text": [
      "['shashank', '20']\n",
      "shashank,20\n"
     ]
    }
   ],
   "source": [
    "#join and split method - convert string to list\n",
    "# join - convert list to string\n",
    "user_info = 'shashank,20'.split(',')\n",
    "user1_info = ['shashank', '20']\n",
    "print(user_info)\n",
    "print(','.join(user1_info))"
   ]
  },
  {
   "cell_type": "code",
   "execution_count": 5,
   "metadata": {},
   "outputs": [
    {
     "name": "stdout",
     "output_type": "stream",
     "text": [
      "mango\n",
      "apple\n",
      "orange\n",
      "apple\n",
      "papaya\n"
     ]
    }
   ],
   "source": [
    "#list-stores any data/flexible\n",
    "#python array module - fix data type\n",
    "#numpy arrays in python for data science-binding with c libraries\n",
    "#list vs string\n",
    "#looping in list\n",
    "fruits=['mango','apple','orange','apple','papaya']\n",
    "for i in fruits:\n",
    "    print(i)"
   ]
  },
  {
   "cell_type": "code",
   "execution_count": 82,
   "metadata": {},
   "outputs": [
    {
     "name": "stdout",
     "output_type": "stream",
     "text": [
      "1\n",
      "2\n",
      "3\n",
      "4\n",
      "5\n",
      "6\n",
      "7\n",
      "8\n",
      "9\n",
      "7\n",
      "<class 'list'>\n"
     ]
    }
   ],
   "source": [
    "#list inside list\n",
    "matrix=[[1,2,3],[4,5,6],[7,8,9]]\n",
    "#for i in matrix:\n",
    "#   print(i)\n",
    "for sublist in matrix:\n",
    "    for i in sublist:\n",
    "        print(i)\n",
    "print(matrix[2][0]) \n",
    "print(type(matrix))\n"
   ]
  },
  {
   "cell_type": "code",
   "execution_count": 83,
   "metadata": {},
   "outputs": [
    {
     "name": "stdout",
     "output_type": "stream",
     "text": [
      "[1, 2, 3, 4, 5, 6, 7, 8, 9, 10]\n",
      "[1, 2, 3, 4, 5, 6, 7, 8, 9]\n",
      "9\n",
      "1\n",
      "[-1, -2, -3, -4, -5, -6, -7, -8, -9, -10]\n"
     ]
    }
   ],
   "source": [
    "#generate lists with range function\n",
    "numbers= list(range(1,11))\n",
    "print(numbers)\n",
    "#something more about pop method\n",
    "numbers.pop()\n",
    "print(numbers)\n",
    "print(numbers.pop()) #pop- method return too\n",
    "#index method\n",
    "print(numbers.index(2)) # we can pass number.index(2,3)-searching starts from third place\n",
    "#we can pass stop argumnt too numbers.index(2,3,6)-stop at 6\n",
    "#pass list to a function\n",
    "number=[1,2,3,4,5,6,7,8,9,10]\n",
    "def negative_list(L):\n",
    "    negative=[]\n",
    "    for i in L:\n",
    "        negative.append(-i)\n",
    "    return negative\n",
    "print(negative_list(number))"
   ]
  },
  {
   "cell_type": "code",
   "execution_count": 85,
   "metadata": {},
   "outputs": [
    {
     "name": "stdout",
     "output_type": "stream",
     "text": [
      "[1, 4, 9, 16, 25, 36]\n"
     ]
    }
   ],
   "source": [
    "#exercise\n",
    "numbers= [1,2,3,4,5,6]\n",
    "def sq_list(L):\n",
    "    sq=[]\n",
    "    for i in L:\n",
    "        sq.append(i*i)\n",
    "    return sq\n",
    "print(sq_list(numbers))"
   ]
  },
  {
   "cell_type": "code",
   "execution_count": 111,
   "metadata": {
    "scrolled": false
   },
   "outputs": [
    {
     "name": "stdout",
     "output_type": "stream",
     "text": [
      "[6, 5, 4, 3, 2, 1]\n"
     ]
    }
   ],
   "source": [
    "#exercise\n",
    "numbers=[1,2,3,4,5,6]\n",
    "\n",
    "#def rev_list(L):\n",
    "#    L.reverse()    #return l[::-1]\n",
    "#    return L\n",
    "\n",
    "#print(rev_list(numbers))\n",
    "def rev_list(L):\n",
    "    rev=[]\n",
    "    for i in range(len(L)):\n",
    "        popped_item=L.pop()\n",
    "        rev.append(popped_item)\n",
    "    return rev \n",
    "print(rev_list(numbers))"
   ]
  },
  {
   "cell_type": "code",
   "execution_count": 1,
   "metadata": {},
   "outputs": [
    {
     "name": "stdout",
     "output_type": "stream",
     "text": [
      "['cba', 'vut', 'zyx']\n"
     ]
    }
   ],
   "source": [
    "#exercise\n",
    "name=['abc','tuv','xyz']\n",
    "def rev_list(L):\n",
    "    rev=[]\n",
    "    for i in L:\n",
    "        rev.append(i[::-1])\n",
    "    return rev\n",
    "print(rev_list(name))\n",
    "        "
   ]
  },
  {
   "cell_type": "code",
   "execution_count": 135,
   "metadata": {
    "scrolled": true
   },
   "outputs": [
    {
     "name": "stdout",
     "output_type": "stream",
     "text": [
      "[[1, 3, 5, 7], [2, 4, 6]]\n"
     ]
    }
   ],
   "source": [
    "num = [1,2,3,4,5,6,7]\n",
    "def  odd_even(l):\n",
    "    even_num=[]\n",
    "    odd_num=[]\n",
    "    for i in l:\n",
    "        if i%2==0:\n",
    "            even_num.append(i)            \n",
    "        else:\n",
    "            odd_num.append(i)\n",
    "    returning =  [odd_num,even_num]\n",
    "    return returning\n",
    "print( odd_even(num))"
   ]
  },
  {
   "cell_type": "code",
   "execution_count": 6,
   "metadata": {},
   "outputs": [
    {
     "name": "stdout",
     "output_type": "stream",
     "text": [
      "[1, 5]\n"
     ]
    }
   ],
   "source": [
    "\n",
    "def common_list(l1,l2):\n",
    "    common=[]\n",
    "    for i in l1:\n",
    "        for j in l2:\n",
    "            if i==j:\n",
    "                common.append(i)\n",
    "    return common\n",
    "print(common_list([1,2,5,8],[5,1,7,6]))"
   ]
  },
  {
   "cell_type": "code",
   "execution_count": 1,
   "metadata": {},
   "outputs": [
    {
     "name": "stdout",
     "output_type": "stream",
     "text": [
      "4\n",
      "2\n"
     ]
    }
   ],
   "source": [
    "n=[1,2,4,4]\n",
    "b=0\n",
    "i=0\n",
    "a=max(n)\n",
    "print(a)\n",
    "for i in range(0,len(n)):\n",
    "    if a==n[i]:\n",
    "        b+=1\n",
    "print(b)        "
   ]
  },
  {
   "cell_type": "code",
   "execution_count": 16,
   "metadata": {},
   "outputs": [
    {
     "name": "stdout",
     "output_type": "stream",
     "text": [
      "60\n"
     ]
    }
   ],
   "source": [
    "def func(l,k):\n",
    "    Sum=sum(l)\n",
    "    N=Sum/k\n",
    "    l1=[]\n",
    "    s=0\n",
    "    for i in l:\n",
    "        if s+i>=N:\n",
    "            if s+i-N<=N-s:\n",
    "                s+=i\n",
    "                l1.append(s)\n",
    "                s=0\n",
    "            else:\n",
    "                l1.append(s)\n",
    "                s+=i\n",
    "        else:\n",
    "            s+=i\n",
    "    l1.append(s)    \n",
    "    return max(l1)\n",
    "    \n",
    "num=[10,20,30,40]\n",
    "print(func(num,2))"
   ]
  },
  {
   "cell_type": "code",
   "execution_count": null,
   "metadata": {},
   "outputs": [],
   "source": []
  }
 ],
 "metadata": {
  "kernelspec": {
   "display_name": "Python 3",
   "language": "python",
   "name": "python3"
  },
  "language_info": {
   "codemirror_mode": {
    "name": "ipython",
    "version": 3
   },
   "file_extension": ".py",
   "mimetype": "text/x-python",
   "name": "python",
   "nbconvert_exporter": "python",
   "pygments_lexer": "ipython3",
   "version": "3.8.0"
  }
 },
 "nbformat": 4,
 "nbformat_minor": 4
}
