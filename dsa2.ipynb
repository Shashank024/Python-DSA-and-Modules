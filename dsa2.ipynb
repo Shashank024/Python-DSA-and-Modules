{
 "cells": [
  {
   "cell_type": "code",
   "execution_count": 3,
   "metadata": {},
   "outputs": [
    {
     "name": "stdout",
     "output_type": "stream",
     "text": [
      "58\n"
     ]
    }
   ],
   "source": [
    "#min and max function\n",
    "def greatest_diff(l):\n",
    "    return max(l)-min(l)\n",
    "numbers=[2,60,3]\n",
    "print(greatest_diff(numbers))\n"
   ]
  },
  {
   "cell_type": "code",
   "execution_count": null,
   "metadata": {},
   "outputs": [],
   "source": [
    "#exercise\n",
    "def sublist_counter(l):\n",
    "    count=0\n",
    "    for i in l:\n",
    "        if type(i)==list:\n",
    "            count+=1\n",
    "    return count\n",
    "mixed=[1,2,3,[4,5],[8,9]]\n",
    "print(sublist_counter(mixed))\n"
   ]
  },
  {
   "cell_type": "code",
   "execution_count": 4,
   "metadata": {},
   "outputs": [
    {
     "name": "stdout",
     "output_type": "stream",
     "text": [
      "knahsahs\n"
     ]
    }
   ],
   "source": [
    "user_info = 'shashank'.split(',')\n",
    "def rev_list(L):\n",
    "    rev=[]\n",
    "    for i in L:\n",
    "        rev.append(i[::-1])                                   #return l[::-1]\n",
    "    print(''.join(rev))\n",
    "rev_list(user_info)"
   ]
  },
  {
   "cell_type": "code",
   "execution_count": 11,
   "metadata": {},
   "outputs": [
    {
     "name": "stdout",
     "output_type": "stream",
     "text": [
      "('one', 'two')\n",
      "('one', 'two', 'three')\n",
      "two\n",
      "one\n"
     ]
    }
   ],
   "source": [
    "#tuples are immutable and faster the lists\n",
    "#can store any data type \n",
    "#no sppend,no insert,no pop,no remove\n",
    "example = ('one','two','three')\n",
    "print(example[:2])\n",
    "print(example)\n",
    "print(max(example))\n",
    "print(min(example))"
   ]
  },
  {
   "cell_type": "code",
   "execution_count": 22,
   "metadata": {},
   "outputs": [
    {
     "name": "stdout",
     "output_type": "stream",
     "text": [
      "<class 'tuple'>\n",
      "yamaha\n",
      "('south', ['north', 'west', 'east'])\n"
     ]
    }
   ],
   "source": [
    "#tuple with one element\n",
    "nums = (1) # not a tuple if we write nums = (1,)=tuple\n",
    "words = ('words1',)\n",
    "print(type(words))\n",
    "\n",
    "\n",
    "#tuple without parenthesis\n",
    "guitars = 'yamaha', 'batan rouge', 'taylor'#by default tuple\n",
    "\n",
    "\n",
    "#tuple unpacking\n",
    "guitars1,guitars2,guitars3 = (guitars)\n",
    "print(guitars1)\n",
    "\n",
    "#list inside tuple\n",
    "favourites = ('south',['north','west'])\n",
    "favourites[1].append(\"east\")\n",
    "print(favourites)\n",
    "#we can us func -min,max and sum"
   ]
  },
  {
   "cell_type": "code",
   "execution_count": 27,
   "metadata": {},
   "outputs": [
    {
     "name": "stdout",
     "output_type": "stream",
     "text": [
      "[1, 2, 3, 4, 5, 6, 7, 8, 9]\n",
      "<class 'str'>\n",
      "sunday\n"
     ]
    }
   ],
   "source": [
    "#function returning two values\n",
    "#something ore about tuples,list and str\n",
    "num_list=str([1,2,3,4,5,6,7,8,9])\n",
    "print(num_list)\n",
    "print(type(num_list))\n",
    "days = ('sunday','monday')\n",
    "print(max(days))"
   ]
  },
  {
   "cell_type": "code",
   "execution_count": 29,
   "metadata": {},
   "outputs": [
    {
     "name": "stdout",
     "output_type": "stream",
     "text": [
      "{'name': 'shashank', 'age': 24, 'State': 'Rajasthan'}\n"
     ]
    }
   ],
   "source": [
    "#intro to  dic\n",
    "user_info = {\n",
    "     'name' : 'harshit',\n",
    "     'age' : 24,\n",
    " }\n",
    "    \n",
    "more_info = {'name':'shashank','State':'Rajasthan'}\n",
    "user_info.update(more_info)\n",
    "print(user_info)"
   ]
  },
  {
   "cell_type": "code",
   "execution_count": 2,
   "metadata": {},
   "outputs": [
    {
     "name": "stdout",
     "output_type": "stream",
     "text": [
      "{1: 1, 2: 8, 3: 27, 4: 64, 5: 125, 6: 216, 7: 343, 8: 512, 9: 729, 10: 1000}\n"
     ]
    }
   ],
   "source": [
    "def cube_finder(n):\n",
    "    d=dict.fromkeys(range(1,n))\n",
    "    for i in range(1,n+1):\n",
    "        d[i]=i*i*i\n",
    "    return d\n",
    "print(cube_finder(10))\n",
    "        \n",
    "\n",
    "    \n",
    "        \n",
    "        \n",
    "    "
   ]
  },
  {
   "cell_type": "code",
   "execution_count": null,
   "metadata": {},
   "outputs": [],
   "source": []
  },
  {
   "cell_type": "code",
   "execution_count": 3,
   "metadata": {},
   "outputs": [
    {
     "name": "stdout",
     "output_type": "stream",
     "text": [
      "{'s': 2, 'h': 2, 'a': 2, 'n': 1, 'k': 1}\n"
     ]
    }
   ],
   "source": [
    "def word_counter(s):\n",
    "    count={}\n",
    "    for char in s:\n",
    "        count[char]=s.count(char)\n",
    "    return count\n",
    "print(word_counter(\"shashank\"))"
   ]
  },
  {
   "cell_type": "code",
   "execution_count": 10,
   "metadata": {
    "scrolled": true
   },
   "outputs": [
    {
     "name": "stdout",
     "output_type": "stream",
     "text": [
      "what is your nameshashank\n",
      "what is your age20\n",
      "your fav moviesstrange\n",
      "your fav songsend of time,frends\n",
      "key is name and value is shashank\n",
      "key is age and value is 20\n",
      "key is fav_movies and value is ['strange']\n",
      "key is fav_songs and value is ['end of time', 'frends']\n"
     ]
    }
   ],
   "source": [
    "user = {}\n",
    "name=input('what is your name')\n",
    "age=input('what is your age')\n",
    "fav_movies = input('your fav movies').split(\",\")\n",
    "fav_songs=input('your fav songs').split(\",\")\n",
    "\n",
    "user['name'] = name\n",
    "user['age'] = age\n",
    "user['fav_movies'] = fav_movies\n",
    "user['fav_songs'] = fav_songs\n",
    "for key,values in user.items():\n",
    "    print(f\"key is {key} and value is {values}\")\n",
    "  "
   ]
  },
  {
   "cell_type": "code",
   "execution_count": 12,
   "metadata": {},
   "outputs": [
    {
     "name": "stdout",
     "output_type": "stream",
     "text": [
      "{1, 2, 3, 4, 5, 6}\n",
      "{3, 4}\n"
     ]
    }
   ],
   "source": [
    "#sets\n",
    "s1 = {1,2,3,4}\n",
    "s2={3,4,5,6}\n",
    "print(s1|s2)\n",
    "print(s1&s2)"
   ]
  },
  {
   "cell_type": "code",
   "execution_count": 43,
   "metadata": {},
   "outputs": [
    {
     "name": "stdout",
     "output_type": "stream",
     "text": [
      "['s', 'p', 'k']\n"
     ]
    }
   ],
   "source": [
    "#list comprehension \n",
    "#square2=[i**2 for i in range (1,11)]\n",
    "#print(square2)\n",
    "\n",
    "#negative=[-i  for i in range(1,11)]\n",
    "#print(negative)\n",
    "names = ['shasha','prince','krishna']\n",
    "#new_list = []\n",
    "#for name in names:\n",
    " #   new_list.append(name[0])\n",
    "#print(new_list)\n",
    "new_list = [name[0] for name in names]\n",
    "print(new_list)\n"
   ]
  },
  {
   "cell_type": "code",
   "execution_count": 46,
   "metadata": {},
   "outputs": [
    {
     "name": "stdout",
     "output_type": "stream",
     "text": [
      "['cba', 'fed', 'zyx']\n"
     ]
    }
   ],
   "source": [
    "#exercise- using list comphrension\n",
    "u=['abc','def','xyz']\n",
    "def reverse_list(l):\n",
    "    return [i[::-1] for i in l]\n",
    "print(reverse_list(u))\n",
    "    "
   ]
  },
  {
   "cell_type": "code",
   "execution_count": 51,
   "metadata": {},
   "outputs": [
    {
     "name": "stdout",
     "output_type": "stream",
     "text": [
      "[2, 4, 6, 8, 10]\n",
      "[1, 3, 5, 7, 9]\n"
     ]
    }
   ],
   "source": [
    "#list comprehension with if statement\n",
    "even_num=[i for i in range(1,11) if i%2==0]\n",
    "odd_num=[i for i in range(1,11) if i%2!=0]\n",
    "print(even_num)\n",
    "print(odd_num)\n",
    "         "
   ]
  },
  {
   "cell_type": "code",
   "execution_count": 53,
   "metadata": {},
   "outputs": [
    {
     "name": "stdout",
     "output_type": "stream",
     "text": [
      "['1', '1.0', '2']\n"
     ]
    }
   ],
   "source": [
    "#exerise\n",
    "def num_string(l):\n",
    "    return [str(i) for i in l if type(i)==int or type(i)==float]\n",
    "mixed=[True,False,[1,2,3],1,1.0,2]\n",
    "print(num_string(mixed))\n"
   ]
  },
  {
   "cell_type": "code",
   "execution_count": 59,
   "metadata": {},
   "outputs": [
    {
     "name": "stdout",
     "output_type": "stream",
     "text": [
      "[[1, 2, 3], [1, 2, 3], [1, 2, 3]]\n"
     ]
    }
   ],
   "source": [
    "#list comphrension with if else statement\n",
    "#nums=[1,2,3,4,5,6,7,8,9]\n",
    "#new_list=[i*2 if (i%2==0) else -i for i in nums]\n",
    "#print(new_list)\n",
    "\n",
    "#nested list comprehension\n",
    "example = [[1,2,3],[1,2,3],[1,2,3]]\n",
    "new_list=[[i for i in range(1,4)] for j in range(3)]\n",
    "print(new_list)\n",
    "\n"
   ]
  },
  {
   "cell_type": "code",
   "execution_count": 63,
   "metadata": {},
   "outputs": [
    {
     "name": "stdout",
     "output_type": "stream",
     "text": [
      "{'s': 2, 'h': 2, 'a': 2, 'n': 1, 'k': 1}\n"
     ]
    }
   ],
   "source": [
    "#dictionary comphrension-we have to specify key also\n",
    "string=\"shashank\"\n",
    "word_count={char:string.count(char) for char in string}     #important ques\n",
    "print(word_count)"
   ]
  },
  {
   "cell_type": "code",
   "execution_count": 66,
   "metadata": {},
   "outputs": [
    {
     "name": "stdout",
     "output_type": "stream",
     "text": [
      "{1: 'odd', 2: 'even', 3: 'odd', 4: 'even', 5: 'odd', 6: 'even', 7: 'odd', 8: 'even', 9: 'odd', 10: 'even'}\n"
     ]
    }
   ],
   "source": [
    "#dictionary comphrension with if else statement\n",
    "odd_even = {i:('even' if i%2==0 else'odd') for i in range(1,11)}\n",
    "print(odd_even)               \n"
   ]
  },
  {
   "cell_type": "code",
   "execution_count": 6,
   "metadata": {},
   "outputs": [
    {
     "name": "stdout",
     "output_type": "stream",
     "text": [
      "{64, 1, 4, 36, 100, 9, 16, 49, 81, 25}\n",
      "{'s', 'h', 'm'}\n"
     ]
    }
   ],
   "source": [
    "#sets comprehension\n",
    "s={k**2 for k in range(1,11)}\n",
    "print(s)\n",
    "\n",
    "name=['harshit','mohit','shashank']\n",
    "s={names[0] for names in name}\n",
    "print(s)"
   ]
  },
  {
   "cell_type": "code",
   "execution_count": 27,
   "metadata": {},
   "outputs": [
    {
     "name": "stdout",
     "output_type": "stream",
     "text": [
      "21\n",
      "num is 1\n",
      "(2, 3)\n",
      "6\n"
     ]
    }
   ],
   "source": [
    "#intro to *args\n",
    "def all_total(*args):\n",
    "    total=0\n",
    "    for i in args:\n",
    "        total=total+i\n",
    "    return total\n",
    "print(all_total(1,2,3,4,5,6))\n",
    "\n",
    "#args with normal parameters\n",
    "def multiply_nums(num,*args):#we cannot write(*args,num) then it will show error-missing ne required\n",
    "    multiply=1\n",
    "    print(f\"num is {num}\")\n",
    "    print(args)\n",
    "    for i in args:\n",
    "        multiply*=i\n",
    "    return multiply\n",
    "print(multiply_nums(1,2,3))    "
   ]
  },
  {
   "cell_type": "code",
   "execution_count": 24,
   "metadata": {},
   "outputs": [
    {
     "name": "stdout",
     "output_type": "stream",
     "text": [
      "num is 1\n",
      "(2, 3, 4)\n",
      "24\n"
     ]
    }
   ],
   "source": [
    "#args as an argument\n",
    "#if we pass list it will not unpack and return output in list for this solution is ex-\n",
    "def multiply_nums(num,*args):\n",
    "    multiply=1\n",
    "    print(f\"num is {num}\")\n",
    "    print(args)\n",
    "    for i in args:\n",
    "        multiply*=i\n",
    "    return multiply\n",
    "nums=[1,2,3,4]\n",
    "print(multiply_nums(*nums))    #unpack"
   ]
  },
  {
   "cell_type": "code",
   "execution_count": 17,
   "metadata": {},
   "outputs": [
    {
     "name": "stdout",
     "output_type": "stream",
     "text": [
      "[1, 8, 27]\n"
     ]
    }
   ],
   "source": [
    "#exercise\n",
    "def to_power(nums,*args):\n",
    "    if args:\n",
    "        return [i**nums for i in args]\n",
    "    else:\n",
    "        return 'hey you dont pass any args'\n",
    "num=[1,2,3]\n",
    "print(to_power(3,*num))\n",
    "    \n",
    "        \n",
    "        \n"
   ]
  },
  {
   "cell_type": "code",
   "execution_count": 28,
   "metadata": {},
   "outputs": [
    {
     "name": "stdout",
     "output_type": "stream",
     "text": [
      "{'first_name': 'shashank', 'last_name': 'agarwal'}\n",
      "<class 'dict'>\n",
      "{'name': 'shashank', 'age': 24}\n",
      "<class 'dict'>\n"
     ]
    }
   ],
   "source": [
    "#**kwargs-keyword arguments\n",
    "#kwargs as a parameter\n",
    "def fun(**kwargs): #if we write(name,**kargs)-then we have a pass an individual agrument for name otherwise it will show error\n",
    "    print(kwargs)\n",
    "    print(type(kwargs))\n",
    "fun(first_name= 'shashank',last_name='agarwal')    \n",
    "\n",
    "\n",
    "#dictionary unpacking\n",
    "d= {'name':'shashank','age':24}\n",
    "fun(**d)\n",
    "\n",
    "\n",
    "#func with all type of parameter has genral order-normal,args,default,kwargs"
   ]
  },
  {
   "cell_type": "code",
   "execution_count": 33,
   "metadata": {},
   "outputs": [
    {
     "name": "stdout",
     "output_type": "stream",
     "text": [
      "['Shashank', 'Prince']\n",
      "['Knahsahs', 'Ecnirp']\n"
     ]
    }
   ],
   "source": [
    "def func(l,**kwargs):  # important ques\n",
    "    if kwargs.get('reverse_str') == True:\n",
    "        return [i[::-1].title() for i in l]\n",
    "    else:\n",
    "        return [i.title() for i in l]\n",
    "names=['shashank','prince']\n",
    "print(func(names))\n",
    "print(func(names,reverse_str = True))"
   ]
  },
  {
   "cell_type": "code",
   "execution_count": 40,
   "metadata": {},
   "outputs": [
    {
     "name": "stdout",
     "output_type": "stream",
     "text": [
      "True\n"
     ]
    }
   ],
   "source": [
    "#lambda expessions--anonymous function\n",
    "\n",
    "#iseven= lambda a:a%2==0\n",
    "#print(iseven)\n",
    "#print(iseven(8))\n",
    "\n",
    "#last_char= lambda s:s[-1]\n",
    "#print(last_char(\"shashank\"))\n",
    "\n",
    "#lambda with if else\n",
    "\n",
    "func=lambda s:True if len(s)>5 else False # we can write :len(s)>5 also\n",
    "\n",
    "print(func(\"shashank\"))\n",
    "\n"
   ]
  },
  {
   "cell_type": "code",
   "execution_count": 49,
   "metadata": {},
   "outputs": [
    {
     "name": "stdout",
     "output_type": "stream",
     "text": [
      "0-->abc\n",
      "1-->def\n",
      "2-->xyz\n"
     ]
    }
   ],
   "source": [
    "#enumerate function\n",
    "name=['abc','def','xyz']\n",
    "for pos, i in enumerate(name):\n",
    "    print(f\"{pos}-->{i}\")\n",
    "    \n",
    "\n"
   ]
  },
  {
   "cell_type": "code",
   "execution_count": 1,
   "metadata": {},
   "outputs": [
    {
     "name": "stdout",
     "output_type": "stream",
     "text": [
      "2\n"
     ]
    }
   ],
   "source": [
    "#exercise\n",
    "def find_string(l,target):\n",
    "    pos=0\n",
    "    for pos,i in enumerate(l):\n",
    "        if i==target:\n",
    "            return pos\n",
    "    return -1\n",
    "print(find_string(['abc','def','xyz'],'xyz'))    \n"
   ]
  },
  {
   "cell_type": "code",
   "execution_count": 58,
   "metadata": {},
   "outputs": [
    {
     "name": "stdout",
     "output_type": "stream",
     "text": [
      "<map object at 0x05E278F8>\n",
      "3\n",
      "4\n",
      "5\n"
     ]
    }
   ],
   "source": [
    "#map function\n",
    "#numbers=[1,2,3,4]\n",
    "#squares = list(map(lambda a:a**2,numbers))\n",
    "#print(squares)\n",
    "\n",
    "names= ['abc','abcd','abcde']\n",
    "print(map(len,names))  #maps objects are iterable-ismma loop chala skta ha\n",
    "length=map(len,names)\n",
    "for i in length:\n",
    "    print(i) \n",
    "### important-technically map object are iterator\n",
    "#iterator and iterables both are different things"
   ]
  },
  {
   "cell_type": "code",
   "execution_count": 62,
   "metadata": {},
   "outputs": [
    {
     "name": "stdout",
     "output_type": "stream",
     "text": [
      "<filter object at 0x05E27E20>\n",
      "(4, 2, 6, 8, 10)\n"
     ]
    }
   ],
   "source": [
    "#filter function\n",
    "def is_even(a):\n",
    "    return a%2==0\n",
    "numbers = [3,4,2,1,5,6,7,8,10]\n",
    "print(filter(is_even,numbers))\n",
    "evens= tuple(filter(is_even,numbers))#we can write-filter(lambda a:a%2==0,numbers)\n",
    "print(evens)\n",
    "\n",
    " "
   ]
  },
  {
   "cell_type": "code",
   "execution_count": 69,
   "metadata": {},
   "outputs": [
    {
     "name": "stdout",
     "output_type": "stream",
     "text": [
      "1\n",
      "4\n",
      "<list_iterator object at 0x05E27A78>\n",
      "1\n"
     ]
    }
   ],
   "source": [
    "#iterator vs iterable\n",
    "numbers= [1,2,3,4] #tuples,string--->iterables\n",
    "squares = map(lambda a:a**2 , numbers)#iterator\n",
    "#we can use direct next function to print square\n",
    "print(next(squares))\n",
    "print(next(squares))\n",
    "\n",
    "\n",
    "print(iter(numbers))\n",
    "number_iter = iter(numbers)\n",
    "print(next(number_iter))\n"
   ]
  },
  {
   "cell_type": "code",
   "execution_count": 75,
   "metadata": {},
   "outputs": [
    {
     "name": "stdout",
     "output_type": "stream",
     "text": [
      "<zip object at 0x0114E828>\n",
      "[('user1', 'harshit'), ('user2', 'mohit'), ('user3', 'rohit')]\n",
      "{'a': 1, 'b': 2}\n"
     ]
    }
   ],
   "source": [
    "#zip function\n",
    "user_id = ['user1','user2','user3']\n",
    "names= ['harshit','mohit','rohit']\n",
    "print(zip(user_id,names))\n",
    "print(list(zip(user_id,names)))#3 tuples\n",
    "example=[('a',1),('b',2)]   ###\n",
    "print(dict(example))\n",
    "#we can change a list to dic which contain two tuples"
   ]
  },
  {
   "cell_type": "code",
   "execution_count": 86,
   "metadata": {},
   "outputs": [
    {
     "name": "stdout",
     "output_type": "stream",
     "text": [
      "[2, 4, 5, 8]\n"
     ]
    }
   ],
   "source": [
    "#zip function-2\n",
    "#*operator with zip\n",
    "\n",
    "l1= [1,3,5,7]\n",
    "l2= [2,4,3,8]\n",
    "#l=[(1,2),(3,4),(5,6),(7,8)]\n",
    "#l1,l2 = list(zip(*l))\n",
    "#print(l1)\n",
    "#print(l2)\n",
    "\n",
    "new_list=[]\n",
    "for pair in zip(l1,l2):\n",
    "    new_list.append(max(pair))\n",
    "print(new_list)    \n",
    "\n"
   ]
  },
  {
   "cell_type": "code",
   "execution_count": 89,
   "metadata": {},
   "outputs": [
    {
     "name": "stdout",
     "output_type": "stream",
     "text": [
      "[4.0, 5.0, 6.0]\n"
     ]
    }
   ],
   "source": [
    "#advance function practice 1 # important--->\n",
    "def average_finder(*args):\n",
    "    average= []\n",
    "    for pair in zip(*args):\n",
    "        average.append(sum(pair)/len(pair))\n",
    "    return average\n",
    "print(average_finder([1,2,3],[4,5,6],[7,8,9]))\n",
    "#funv=lambda *args:[sum(pair)/len(pair) for pair in zip(-args)]"
   ]
  },
  {
   "cell_type": "code",
   "execution_count": 93,
   "metadata": {},
   "outputs": [
    {
     "name": "stdout",
     "output_type": "stream",
     "text": [
      "False\n",
      "False\n",
      "True\n"
     ]
    }
   ],
   "source": [
    "#any and all function\n",
    "numbers1=[2,4,6,8,10]\n",
    "numbers2=[1,2,3,4,5,6]\n",
    "print(all([num%2==0 for num in numbers2]))\n",
    "print(any([num%2!=0 for num in numbers1]))\n",
    "print(all([num%2==0 for num in numbers1]))\n"
   ]
  },
  {
   "cell_type": "code",
   "execution_count": 100,
   "metadata": {},
   "outputs": [
    {
     "name": "stdout",
     "output_type": "stream",
     "text": [
      "wrong input\n"
     ]
    }
   ],
   "source": [
    "#any and all practice\n",
    "def all_total(*args):\n",
    "    if all([ type(arg)== int or type(arg)==float for arg in args]):\n",
    "        total=0\n",
    "        for i in args:\n",
    "            total+=i\n",
    "        return total\n",
    "    else:\n",
    "        return \"wrong input\"\n",
    "            \n",
    "           \n",
    "print(all_total(1,2,3,4,5,6,'harshit'))\n"
   ]
  },
  {
   "cell_type": "code",
   "execution_count": 12,
   "metadata": {},
   "outputs": [
    {
     "name": "stdout",
     "output_type": "stream",
     "text": [
      "Harshit\n",
      "{'name': 'harshit', 'score': 90, 'age': 24}\n",
      "harshit\n",
      "rohit\n",
      "harshit\n"
     ]
    }
   ],
   "source": [
    "#advance min and max function\n",
    "names = ['Harshit','Mohit','ab']\n",
    "print(max(names,key= lambda item: len(item)))\n",
    "\n",
    "students2=[\n",
    "    {'name':'harshit','score':90,'age':24},\n",
    "    {'name':'mohit','score':70,'age':25},\n",
    "    {'name':'rohit','score':60,'age':26}   \n",
    "]\n",
    "print(max(students2,key = lambda item:item.get('score')))\n",
    "print(max(students2,key = lambda item:item.get('score'))['name'])\n",
    "print(max(students2,key = lambda item:item.get('age'))['name'])\n",
    "\n",
    "\n",
    "students= {\n",
    "    'harshit':{'score':90,'age':24},\n",
    "    'mohit':{'score':70,'age':25},\n",
    "    'rohit':{'score':60,'age':26}   \n",
    "}\n",
    "\n",
    "print(max(students,key= lambda item:students[item]['score']))\n",
    "\n",
    "\n",
    "\n",
    "\n"
   ]
  },
  {
   "cell_type": "code",
   "execution_count": 17,
   "metadata": {},
   "outputs": [
    {
     "name": "stdout",
     "output_type": "stream",
     "text": [
      "[{'model': 'yamaha f310', 'price': 8400}, {'model': 'faith apollo venus', 'price': 35000}, {'model': 'faith neptune', 'price': 50000}]\n",
      "\n",
      "\n",
      "[{'model': 'faith neptune', 'price': 50000}, {'model': 'faith apollo venus', 'price': 35000}, {'model': 'yamaha f310', 'price': 8400}]\n"
     ]
    }
   ],
   "source": [
    "#advance sort function\n",
    "#sort function cannot be used in tuple and dictionary for which sorted funnc is used\n",
    "guitars = [\n",
    "    {'model': 'yamaha f310','price':8400},\n",
    "    {'model': 'faith neptune','price':50000},\n",
    "    {'model': 'faith apollo venus','price':35000}\n",
    "    \n",
    "]\n",
    "print(sorted(guitars, key = lambda d:d['price']))\n",
    "print(\"\\n\")\n",
    "print(sorted(guitars, key = lambda d:d['price'],reverse = True))\n"
   ]
  },
  {
   "cell_type": "code",
   "execution_count": 2,
   "metadata": {},
   "outputs": [
    {
     "name": "stdout",
     "output_type": "stream",
     "text": [
      "Return the number of items in a container.\n",
      "Help on built-in function len in module builtins:\n",
      "\n",
      "len(obj, /)\n",
      "    Return the number of items in a container.\n",
      "\n",
      "None\n"
     ]
    }
   ],
   "source": [
    "#more about function\n",
    "#print(sum.__doc__)\n",
    "print(len.__doc__)\n",
    "print(help(len))"
   ]
  },
  {
   "cell_type": "code",
   "execution_count": 22,
   "metadata": {},
   "outputs": [
    {
     "name": "stdout",
     "output_type": "stream",
     "text": [
      "49\n",
      "square\n",
      "<function square at 0x00D18FA0>\n",
      "<function square at 0x00D18FA0>\n"
     ]
    }
   ],
   "source": [
    "#intro     important--->\n",
    "def square(a):\n",
    "    return a**2\n",
    "s=square\n",
    "print(s(7))\n",
    "print(s.__name__)\n",
    "print(s)\n",
    "print(square)"
   ]
  },
  {
   "cell_type": "code",
   "execution_count": 33,
   "metadata": {},
   "outputs": [
    {
     "name": "stdout",
     "output_type": "stream",
     "text": [
      "[1, 8, 27, 64]\n",
      "you are in inner function\n"
     ]
    },
    {
     "data": {
      "text/plain": [
       "125"
      ]
     },
     "execution_count": 33,
     "metadata": {},
     "output_type": "execute_result"
    }
   ],
   "source": [
    "#pass function as an argument\n",
    "def my_map(func,l):\n",
    "    return [func(item) for item in l]\n",
    "print(my_map(lambda a:a**3,[1,2,3,4]))\n",
    "\n",
    "\n",
    "#function returning function\n",
    "def out_func():\n",
    "    def in_func():\n",
    "        print('you are in inner function')\n",
    "    return in_func\n",
    "var=out_func()\n",
    "var()\n",
    "\n",
    "#closures(first class function)\n",
    "def to_power(x):\n",
    "    def calc_power(n):\n",
    "        return n**x\n",
    "    return calc_power\n",
    "cube= to_power(3)\n",
    "cube(5)\n",
    "\n",
    "\n"
   ]
  },
  {
   "cell_type": "code",
   "execution_count": 38,
   "metadata": {},
   "outputs": [
    {
     "name": "stdout",
     "output_type": "stream",
     "text": [
      "this is awesome func\n",
      "this is function 1\n"
     ]
    }
   ],
   "source": [
    "#Decorators intro=enhance the functionality of other function\n",
    "def decorator_function(any_function):\n",
    "    def wrapper_func():\n",
    "        print(\"this is awesome func\")\n",
    "        any_function()\n",
    "    return wrapper_func\n",
    "@decorator_function\n",
    "def func1():\n",
    "    print(\"this is function 1\")\n",
    "func1()    \n",
    "    \n",
    "    \n",
    "    \n"
   ]
  },
  {
   "cell_type": "code",
   "execution_count": 55,
   "metadata": {},
   "outputs": [
    {
     "name": "stdout",
     "output_type": "stream",
     "text": [
      "this is awesome func\n",
      "this is function 1 is 7\n",
      "this is awesome func\n",
      "5\n"
     ]
    }
   ],
   "source": [
    "#decorator part-2\n",
    "def decorator_function(any_function):\n",
    "    def wrapper_func(*args,**kwargs):\n",
    "        print(\"this is awesome func\")\n",
    "        return any_function(*args,**kwargs)\n",
    "    return wrapper_func\n",
    "@decorator_function\n",
    "def func1(x):\n",
    "    print(f\"this is function 1 is {x}\")\n",
    "func1(7) \n",
    "\n",
    "@decorator_function\n",
    "def add(a,b):\n",
    "    return a+b\n",
    "\n",
    "print(add(2,3))\n",
    "    \n",
    "    \n",
    "    \n",
    "\n"
   ]
  },
  {
   "cell_type": "code",
   "execution_count": 49,
   "metadata": {},
   "outputs": [
    {
     "name": "stdout",
     "output_type": "stream",
     "text": [
      "you are calling add\n",
      " this is add function\n",
      "5\n"
     ]
    }
   ],
   "source": [
    "\n",
    "#dwcorator part-3\n",
    "from functools import wraps\n",
    "def decorator_function(any_function):\n",
    "    @wraps(any_function)\n",
    "    def wrapper_func(*args,**kwargs):\n",
    "        print(f\"you are calling {any_function.__name__}\")\n",
    "        print(f\"{any_function.__doc__}\")\n",
    "        return any_function(*args,**kwargs)\n",
    "    return wrapper_func\n",
    "\n",
    "@decorator_function\n",
    "def add(a,b):\n",
    "    ''' this is add function'''\n",
    "    return a+b\n",
    "\n",
    "print(add(2,3))\n",
    "\n",
    "\n",
    "    \n",
    "    "
   ]
  },
  {
   "cell_type": "code",
   "execution_count": 53,
   "metadata": {},
   "outputs": [
    {
     "name": "stdout",
     "output_type": "stream",
     "text": [
      "Executing...square\n",
      "This function took 8.130073547363281e-05 for execution\n",
      "[1, 4, 9, 16, 25, 36, 49, 64, 81, 100]\n"
     ]
    }
   ],
   "source": [
    "from functools import wraps\n",
    "import time\n",
    "def decorate_function(function):\n",
    "    @wraps(function)\n",
    "    def wrapper_function(*args,**kwargs):\n",
    "        print(f\"Executing...{function.__name__}\")\n",
    "        t1=time.time()\n",
    "        returned_value=function(*args,**kwargs)\n",
    "        t2=time.time()\n",
    "        total_time=t2-t1\n",
    "        print(f\"This function took {total_time} for execution\")\n",
    "        return returned_value\n",
    "    return wrapper_function\n",
    "@decorate_function\n",
    "def square(n):\n",
    "    return [i**2 for i in range(1,n+1)]\n",
    "print(square(10))\n",
    "    \n",
    "    \n",
    "            \n",
    "        \n",
    "        "
   ]
  },
  {
   "cell_type": "code",
   "execution_count": 1,
   "metadata": {},
   "outputs": [
    {
     "name": "stdout",
     "output_type": "stream",
     "text": [
      "invalid input\n",
      "None\n"
     ]
    }
   ],
   "source": [
    "from functools import wraps\n",
    "def only_int_allow(function):\n",
    "    @wraps(function)\n",
    "    def wrapper(*args,**kwargs):\n",
    "        if all([type(arg)==int for arg in args]):\n",
    "            return function(*args,**kwargs)\n",
    "        else:\n",
    "            print(\"invalid input\")\n",
    "    return wrapper\n",
    "\n",
    "@only_int_allow\n",
    "def add_all(*args):\n",
    "    total=0\n",
    "    for i in args:\n",
    "        total+=i\n",
    "\n",
    "        \n",
    "print(add_all(1,2,3,4,5,[1,2,3]))"
   ]
  },
  {
   "cell_type": "raw",
   "metadata": {},
   "source": [
    "#decorator with arguments\n",
    "from functools import  wraps\n",
    "def only_data_type(data_type):\n",
    "    def decorator(function):\n",
    "        @wraps(function)\n",
    "        def wrapper(*args,**kwargs):\n",
    "            if all([type(arg)==data_type for arg in args]):\n",
    "                 return function(*args,**kwargs)\n",
    "            else:\n",
    "                print(\"invalid input\")\n",
    "        return wrapper\n",
    "    return decorator\n",
    "\n",
    "@only_data_type(int)\n",
    "def add_all(*args):\n",
    "    total=0\n",
    "    for i in args:\n",
    "        total+=i\n",
    "    return total\n",
    "\n",
    "print(add_all(1,2,3,4))\n",
    "\n",
    "\n",
    "#doubt for list and tuple\n",
    "    \n",
    "    "
   ]
  },
  {
   "cell_type": "code",
   "execution_count": 13,
   "metadata": {},
   "outputs": [
    {
     "name": "stdout",
     "output_type": "stream",
     "text": [
      "1\n",
      "2\n",
      "3\n",
      "4\n",
      "5\n",
      "6\n",
      "7\n",
      "8\n",
      "9\n",
      "10\n",
      "<generator object nums at 0x00BEF028>\n"
     ]
    }
   ],
   "source": [
    "#intro to generators(iterators)\n",
    "#we have to use sequence only one time\n",
    "#no memory wastage and increase performance\n",
    "def nums(n):\n",
    "    for i in range(1,n+1):\n",
    "        yield(i)\n",
    "               \n",
    "for number in nums(10):\n",
    "    print(number)\n",
    "print(nums(10))        \n",
    "    \n",
    "  \n"
   ]
  },
  {
   "cell_type": "code",
   "execution_count": 14,
   "metadata": {},
   "outputs": [
    {
     "name": "stdout",
     "output_type": "stream",
     "text": [
      "2\n",
      "4\n",
      "6\n",
      "8\n",
      "10\n",
      "<generator object <genexpr> at 0x00BEF178>\n",
      "1\n",
      "4\n",
      "9\n",
      "16\n",
      "25\n",
      "36\n",
      "49\n",
      "64\n",
      "81\n",
      "100\n"
     ]
    }
   ],
   "source": [
    "#exercise\n",
    "def generator(n):\n",
    "    for i in range(1,n+1):\n",
    "        if i%2==0:\n",
    "            yield(i)\n",
    "            \n",
    "for num in generator(10):\n",
    "    print(num)\n",
    "    \n",
    "    \n",
    "#generator comphrension\n",
    "square = (i**2 for i in range(1,11))\n",
    "print(square)\n",
    "for num in square:\n",
    "    print(num)\n",
    "for num in square:\n",
    "    print(num)    \n"
   ]
  },
  {
   "cell_type": "code",
   "execution_count": 24,
   "metadata": {},
   "outputs": [
    {
     "name": "stdout",
     "output_type": "stream",
     "text": [
      "Shashank Agarwal\n",
      "[]\n",
      "[10]\n"
     ]
    }
   ],
   "source": [
    "#OOP\n",
    "class Person:\n",
    "    def __init__(self,fname,lname,age):\n",
    "        self.fname=fname\n",
    "        self.lname=lname\n",
    "        self.age=age\n",
    "    \n",
    "    def full_name(self):\n",
    "        return f\"{self.fname} {self.lname}\"\n",
    "    \n",
    "p1=Person('Shashank','Agarwal',20)\n",
    "print(p1.full_name())  #Person.fullname(p2)\n",
    "\n",
    "\n",
    "l = [1,2,3]\n",
    "#clear,pop\n",
    "#l.clear()\n",
    "list.clear(l)\n",
    "print(l)\n",
    "list.append(l,10)\n",
    "print(l) \n",
    "\n",
    "\n",
    "\n"
   ]
  },
  {
   "cell_type": "code",
   "execution_count": 29,
   "metadata": {
    "scrolled": true
   },
   "outputs": [
    {
     "name": "stdout",
     "output_type": "stream",
     "text": [
      "56700.0\n"
     ]
    }
   ],
   "source": [
    "#oop exercise\n",
    "class Laptop:\n",
    "    def __init__(self,brand,model_name,price):\n",
    "        self.brand=brand\n",
    "        self.name=model_name\n",
    "        self.price=price\n",
    "        self.laptop_name=brand+' '+model_name\n",
    "    def apply_discount(self,num):\n",
    "        off_price=(num/100)*self.price\n",
    "        return self.price-off_price\n",
    "        \n",
    "        \n",
    "laptop1= Laptop('hp','au114tx',63000)\n",
    "#print(laptop1.laptop_name)\n",
    "print(laptop1.apply_discount(10))"
   ]
  },
  {
   "cell_type": "code",
   "execution_count": 33,
   "metadata": {},
   "outputs": [
    {
     "name": "stdout",
     "output_type": "stream",
     "text": [
      "{'brand': 'apple', 'name': 'mackbook pro', 'price': 230000, 'laptop_name': 'apple mackbook pro', 'discount_percent': 50}\n",
      "115000.0\n"
     ]
    }
   ],
   "source": [
    "#oop-part2\n",
    "class Laptop:\n",
    "    discount_percent=10\n",
    "    def __init__(self,brand,model_name,price):\n",
    "        self.brand=brand\n",
    "        self.name=model_name\n",
    "        self.price=price\n",
    "        self.laptop_name=brand+' '+model_name\n",
    "    def apply_discount(self):\n",
    "        off_price=(self.discount_percent/100)*self.price\n",
    "        return self.price-off_price\n",
    "        \n",
    "        \n",
    "laptop1= Laptop('hp','au114tx',63000)\n",
    "laptop2=Laptop('apple','mackbook pro',230000)\n",
    "laptop2.discount_percent=50\n",
    "\n",
    "print(laptop2.__dict__)\n",
    "print(laptop2.apply_discount())"
   ]
  },
  {
   "cell_type": "code",
   "execution_count": 36,
   "metadata": {},
   "outputs": [
    {
     "name": "stdout",
     "output_type": "stream",
     "text": [
      "2\n"
     ]
    }
   ],
   "source": [
    "#oop-class variable\n",
    "#you can intitialise in class and where we want to use we simply write Class name.variable name\n",
    "#exercise\n",
    "class Person:\n",
    "    count_instance=0  #class varible\n",
    "    def __init__(self,fname,lname,age):\n",
    "        Person.count_instance+=1\n",
    "        self.fname=fname\n",
    "        self.lname=lname\n",
    "        self.age=age\n",
    "        \n",
    "p1=Person('shashank','garg',20) \n",
    "p2=Person('yash','garg',19)\n",
    "print(Person.count_instance)        \n",
    "        \n",
    "        \n",
    "        \n",
    "        "
   ]
  },
  {
   "cell_type": "code",
   "execution_count": 47,
   "metadata": {},
   "outputs": [
    {
     "name": "stdout",
     "output_type": "stream",
     "text": [
      "you have created 2 of Person class\n"
     ]
    }
   ],
   "source": [
    "#oop-class methods\n",
    "#OOP\n",
    "class Person:\n",
    "    count_instance=0\n",
    "    def __init__(self,fname,lname,age):\n",
    "        Person.count_instance+=1\n",
    "        self.fname=fname\n",
    "        self.lname=lname\n",
    "        self.age=age\n",
    "    @classmethod                                  #class method\n",
    "    def count_instances(cls): \n",
    "        return f\"you have created {cls.count_instance} of {cls.__name__} class\"\n",
    "    def full_name(self):\n",
    "        return f\"{self.fname} {self.lname}\"\n",
    "    \n",
    "p1=Person('Shashank','Agarwal',20)\n",
    "p2=Person('yash','garg',19)\n",
    "print(Person.count_instances())  \n",
    "\n"
   ]
  },
  {
   "cell_type": "code",
   "execution_count": 48,
   "metadata": {},
   "outputs": [
    {
     "name": "stdout",
     "output_type": "stream",
     "text": [
      "you have created 3 of Person class\n"
     ]
    }
   ],
   "source": [
    "#Class method as constructor  #important\n",
    "class Person:\n",
    "    count_instance=0\n",
    "    def __init__(self,fname,lname,age):\n",
    "        Person.count_instance+=1\n",
    "        self.fname=fname\n",
    "        self.lname=lname\n",
    "        self.age=age\n",
    "    @classmethod\n",
    "    def from_string(cls,string):\n",
    "        first,last,age=string.split(\",\")\n",
    "        return cls(first,last,age)\n",
    "        \n",
    "        \n",
    "    @classmethod                                  #class method\n",
    "    def count_instances(cls): \n",
    "        return f\"you have created {cls.count_instance} of {cls.__name__} class\"\n",
    "    def full_name(self):\n",
    "        return f\"{self.fname} {self.lname}\"\n",
    "    \n",
    "p1=Person('Shashank','Agarwal',20)\n",
    "p2=Person('yash','garg',19)\n",
    "\n",
    "p3=Person.from_string('Shasha,Garg,20') #all three inputs from one string\n",
    "print(Person.count_instances())  \n",
    "\n"
   ]
  },
  {
   "cell_type": "code",
   "execution_count": 51,
   "metadata": {},
   "outputs": [
    {
     "name": "stdout",
     "output_type": "stream",
     "text": [
      "you have created 3 of Person class\n",
      "hello,static method called\n"
     ]
    }
   ],
   "source": [
    "#OOP-Static method\n",
    "class Person:\n",
    "    count_instance=0\n",
    "    def __init__(self,fname,lname,age):\n",
    "        Person.count_instance+=1\n",
    "        self.fname=fname\n",
    "        self.lname=lname\n",
    "        self.age=age\n",
    "    @classmethod\n",
    "    def from_string(cls,string):\n",
    "        first,last,age=string.split(\",\")\n",
    "        return cls(first,last,age)\n",
    "    @staticmethod\n",
    "    def hello():\n",
    "        print('hello,static method called')\n",
    "            \n",
    "    @classmethod                                  #class method\n",
    "    def count_instances(cls): \n",
    "        return f\"you have created {cls.count_instance} of {cls.__name__} class\"\n",
    "    def full_name(self):\n",
    "        return f\"{self.fname} {self.lname}\"\n",
    "    \n",
    "p1=Person('Shashank','Agarwal',20)\n",
    "p2=Person('yash','garg',19)\n",
    "p3=Person.from_string('Shasha,Garg,20') \n",
    "print(Person.count_instances())  \n",
    "Person.hello()\n",
    "\n",
    "\n"
   ]
  },
  {
   "cell_type": "code",
   "execution_count": 67,
   "metadata": {},
   "outputs": [
    {
     "name": "stdout",
     "output_type": "stream",
     "text": [
      "oneplus 6T and price is 30000\n",
      "oneplus 7T and price is 30000\n",
      "True\n",
      "True\n",
      "True\n",
      "[<class '__main__.Flagship'>, <class '__main__.Smartphone'>, <class '__main__.Phone'>, <class 'object'>]\n"
     ]
    }
   ],
   "source": [
    "#Encapsulation.Abstraction,Naming Conventions,Name Mangling\n",
    "#Property and setter decorator\n",
    "#Inheritance intro\n",
    "class Phone:\n",
    "    def __init__(self,brand,model_name,price):\n",
    "        self.brand=brand\n",
    "        self.name=model_name\n",
    "        self.price=max(price,0)   \n",
    "    def full_name(self):\n",
    "        return f\"{self.brand} {self.name}\"\n",
    "    def make_a_call(self,number):\n",
    "        return f\"Calling {number}...\"\n",
    "    \n",
    "class Smartphone(Phone):\n",
    "    def __init__(self,brand,model_name,price,ram,internal_memory,rear_camera):\n",
    "        super().__init__(brand,model_name,price)\n",
    "        self.ram=ram\n",
    "        self.internal_memory=internal_memory\n",
    "        self.rear_camera=rear_camera\n",
    "        \n",
    "    def full_name(self):                                         #method overiding---<\n",
    "        return f\"{self.brand} {self.name} and price is {self.price}\"\n",
    "            \n",
    "class Flagship(Smartphone):\n",
    "    def __init__(self,brand,model_name,price,ram,internal_memory,rear_camera,front_camera):\n",
    "        super().__init__(brand,model_name,price,ram,internal_memory,rear_camera)\n",
    "        self.front_camera=front_camera\n",
    "        \n",
    "        \n",
    "p1=Phone(\"nokia\",\"3300\",2000)\n",
    "p2=Smartphone(\"oneplus\",\"6T\",30000,\"4GB\",\"64GB\",\"20MP\")\n",
    "p3=Flagship(\"oneplus\",\"7T\",30000,\"4GB\",\"64GB\",\"20MP\",\"32MP\")\n",
    "print(p2.full_name())\n",
    "print(p3.full_name())\n",
    "#print(help(Flagship))      #MRO-method reolution order\n",
    "print(isinstance(p2,Smartphone))\n",
    "print(isinstance(p2,Phone))\n",
    "print(issubclass(Flagship,Phone))\n",
    "print(Flagship.mro())   #MRO\n",
    "\n",
    "        \n",
    "        \n",
    "        \n",
    "        \n",
    "        \n",
    "        \n",
    "        \n",
    "        \n",
    "        \n",
    "        \n",
    "        \n",
    "        \n",
    "        \n"
   ]
  },
  {
   "cell_type": "code",
   "execution_count": 28,
   "metadata": {},
   "outputs": [
    {
     "ename": "SyntaxError",
     "evalue": "invalid syntax (<ipython-input-28-f371222c1eec>, line 26)",
     "output_type": "error",
     "traceback": [
      "\u001b[1;36m  File \u001b[1;32m\"<ipython-input-28-f371222c1eec>\"\u001b[1;36m, line \u001b[1;32m26\u001b[0m\n\u001b[1;33m    print(p1+p2)\u001b[0m\n\u001b[1;37m    ^\u001b[0m\n\u001b[1;31mSyntaxError\u001b[0m\u001b[1;31m:\u001b[0m invalid syntax\n"
     ]
    }
   ],
   "source": [
    "#Multiple inheritance\n",
    "#Magic dunder method,operator overloading,polymorphism\n",
    "#if both repr and str are present default str will be called\n",
    "class Phone:\n",
    "    def __init__(self,brand,model_name,price):\n",
    "        self.brand=brand\n",
    "        self.name=model_name\n",
    "        self.price=max(price,0)   \n",
    "    def full_name(self):\n",
    "        return f\"{self.brand} {self.name}\"\n",
    "    \n",
    "    def __repr__(self): \n",
    "        return f\"Phone({self.brand}.{self.name},{self.price})\"  # in repr we write python code or object presentation\n",
    "    \n",
    "    def __str__(self):#nicely formated string\n",
    "        return f\"{self.brand} {self.name} and price is {self.price}\"\n",
    "    \n",
    "    def __len__(self):\n",
    "        return len(self.name)\n",
    "    \n",
    "    def __add__(self,other):\n",
    "        return self.price+other.price\n",
    "\n",
    "p1=Phone(\"nokia\",\"3300\",2000)\n",
    "p2=Phone(\"nokia\",\"3500\",2500\n",
    "print(p1+p2)\n",
    "print(len(p1))\n",
    "print(p1)\n",
    "print(repr(p1))\n"
   ]
  },
  {
   "cell_type": "code",
   "execution_count": null,
   "metadata": {},
   "outputs": [
    {
     "name": "stdout",
     "output_type": "stream",
     "text": [
      "Enter your ageshashanj\n",
      "Invalid Input\n",
      "Enter your agew5d1d\n",
      "Invalid Input\n",
      "Enter your age))((\n",
      "Invalid Input\n"
     ]
    }
   ],
   "source": [
    "#raise errors \n",
    "#Handle Exceptions-try except else finally\n",
    "while True:\n",
    "    try:\n",
    "        age=int(input(\"Enter your age\"))\n",
    "        break\n",
    "    except ValueError:\n",
    "        print(\"Invalid Input\")\n",
    "    except:\n",
    "        print(\"Be in your limit\")\n",
    "\n",
    "if age<18:\n",
    "    print(\"you cannot play this game\")\n",
    "else:\n",
    "    print(\"You can play\")\n",
    "        \n",
    "#if try condition is true then else will direct run and if we add finally keyword then it will run whether rhere is error or not\n",
    "\n",
    " "
   ]
  },
  {
   "cell_type": "code",
   "execution_count": null,
   "metadata": {},
   "outputs": [],
   "source": [
    "#Custom exception-To increase the readability of code\n",
    "class NameTooShortError(ValueError): #we inherited the value error class which is defined in python\n",
    "    pass\n",
    "\n",
    "def validate(name):\n",
    "    if len(name)<8:\n",
    "        raise NameTooShortError(\"name is too short\")\n",
    "username=input(\"Enter your name\")\n",
    "validate(username)\n",
    "print(f\"hello {username}\")\n"
   ]
  },
  {
   "cell_type": "code",
   "execution_count": null,
   "metadata": {},
   "outputs": [],
   "source": [
    "#Debugging\n",
    "import pdb\n",
    "pdb.set_trace()\n",
    "name=input(\"eneter your name\")\n",
    "age =input(\"enter your age\")\n",
    "print(\"hello\")\n",
    "age1=age+5\n",
    "print(f\"hello {name} your age is {age1}\")"
   ]
  },
  {
   "cell_type": "code",
   "execution_count": null,
   "metadata": {},
   "outputs": [],
   "source": [
    "names=list(input(\"enter the string\\n\").split(\" \"))\n",
    "new=[]\n",
    "for i in names:\n",
    "    new.append(i[::-1])\n",
    "print(' '.join(new))  "
   ]
  }
 ],
 "metadata": {
  "kernelspec": {
   "display_name": "Python 3",
   "language": "python",
   "name": "python3"
  },
  "language_info": {
   "codemirror_mode": {
    "name": "ipython",
    "version": 3
   },
   "file_extension": ".py",
   "mimetype": "text/x-python",
   "name": "python",
   "nbconvert_exporter": "python",
   "pygments_lexer": "ipython3",
   "version": "3.8.0"
  }
 },
 "nbformat": 4,
 "nbformat_minor": 4
}
