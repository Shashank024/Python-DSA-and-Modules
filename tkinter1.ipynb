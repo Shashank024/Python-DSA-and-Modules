{
 "cells": [
  {
   "cell_type": "code",
   "execution_count": 1,
   "metadata": {},
   "outputs": [],
   "source": [
    "import tkinter as tk\n",
    "from tkinter import ttk\n",
    "win=tk.Tk()\n",
    "win.title('LOOP')\n",
    "\n",
    "labels=['What is your name: ','What is your age: ','What is your gender: ','Country: ','State: ','City: ']\n",
    "for i in range(len(labels)):\n",
    "    cur_label='label'+str(i)\n",
    "    cur_label=ttk.Label(win,text = labels[i])\n",
    "    cur_label.grid(row=i , column=0 , sticky=tk.W) \n",
    "\n",
    "name_var=tk.StringVar()\n",
    "name_entry=ttk.Entry(win,width=16,textvariable=name_var)\n",
    "name_entry.grid(row=0,column=1)\n",
    "   \n",
    "win.mainloop()    "
   ]
  },
  {
   "cell_type": "code",
   "execution_count": null,
   "metadata": {},
   "outputs": [],
   "source": []
  }
 ],
 "metadata": {
  "kernelspec": {
   "display_name": "Python 3",
   "language": "python",
   "name": "python3"
  },
  "language_info": {
   "codemirror_mode": {
    "name": "ipython",
    "version": 3
   },
   "file_extension": ".py",
   "mimetype": "text/x-python",
   "name": "python",
   "nbconvert_exporter": "python",
   "pygments_lexer": "ipython3",
   "version": "3.8.0"
  }
 },
 "nbformat": 4,
 "nbformat_minor": 4
}
